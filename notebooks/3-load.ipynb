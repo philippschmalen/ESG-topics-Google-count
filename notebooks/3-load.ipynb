{
 "cells": [
  {
   "cell_type": "code",
   "execution_count": 1,
   "id": "finite-ancient",
   "metadata": {},
   "outputs": [
    {
     "name": "stdout",
     "output_type": "stream",
     "text": [
      "Writing ../pipelines/google_results_count/load.py\n"
     ]
    }
   ],
   "source": [
    "%%writefile '../pipelines/google_results_count/load.py'\n",
    "import pandas as pd\n",
    "\n",
    "def write_to_csv(df, filepath):\n",
    "    print('_'*42, f'\\nExport data, dimension: {df.shape} to\\t{filepath}\\n')\n",
    "    print(df.head(2).to_markdown())\n",
    "    df.to_csv(f'{filepath}', index=False) "
   ]
  }
 ],
 "metadata": {
  "kernelspec": {
   "display_name": "Python 3",
   "language": "python",
   "name": "python3"
  },
  "language_info": {
   "codemirror_mode": {
    "name": "ipython",
    "version": 3
   },
   "file_extension": ".py",
   "mimetype": "text/x-python",
   "name": "python",
   "nbconvert_exporter": "python",
   "pygments_lexer": "ipython3",
   "version": "3.8.8"
  }
 },
 "nbformat": 4,
 "nbformat_minor": 5
}
