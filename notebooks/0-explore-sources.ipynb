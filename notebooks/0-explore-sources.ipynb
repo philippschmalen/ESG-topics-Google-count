{
 "cells": [
  {
   "cell_type": "markdown",
   "id": "arbitrary-anniversary",
   "metadata": {},
   "source": [
    "# Goal: Find data source\n",
    "\n",
    "### Requests and BS\n",
    "https://stackoverflow.com/questions/61064420/how-to-print-the-number-of-google-search-results-beautifulsoup"
   ]
  },
  {
   "cell_type": "code",
   "execution_count": 70,
   "id": "ambient-protection",
   "metadata": {},
   "outputs": [
    {
     "name": "stdout",
     "output_type": "stream",
     "text": [
      "Project dir\tC:/Users/phili/Google Drive/Projekter/Google keywords/google_results_count\n",
      "Keywords\t['ESG', 'sustainable finance', 'responsible investment', 'impact investing', 'green finance', 'sustainable investment', 'socially responsible investment']\n"
     ]
    }
   ],
   "source": [
    "import pandas as pd\n",
    "import requests\n",
    "from bs4 import BeautifulSoup\n",
    "import yaml\n",
    "from datetime import datetime\n",
    "\n",
    "# load settings.yml\n",
    "with open(r'../settings.yml') as file:\n",
    "    # The FullLoader parameter handles the conversion from YAML\n",
    "    # scalar values to Python the dictionary format\n",
    "    settings = yaml.full_load(file)\n",
    "\n",
    "    PROJECT_DIR = settings['project']['root_dir']\n",
    "    KEYWORDS    = settings['query']['keywords']\n",
    "    USER_AGENT  = settings['query']['user_agent']\n",
    "    GOOGLE_URL  = settings['query']['google_url']\n",
    "\n",
    "print(\"Project dir\\t{}\\nKeywords\\t{}\".format(PROJECT_DIR, KEYWORDS))"
   ]
  },
  {
   "cell_type": "code",
   "execution_count": 55,
   "id": "military-leone",
   "metadata": {},
   "outputs": [],
   "source": [
    "def get_search_urls(keyword_list, url=\"https://www.google.com/search?q=\"):\n",
    "    \"\"\" Compose search urls \"\"\"\n",
    "    search_query = [kw.replace(' ','+') for kw in keyword_list] # replace space with '+'\n",
    "    return [url+sq for sq in search_query]\n",
    "    \n",
    "def get_results_count(keyword, user_agent):\n",
    "    result = requests.get(keyword, headers=user_agent)    \n",
    "    soup = BeautifulSoup(result.content, 'html.parser')\n",
    "    \n",
    "    #  string that contains results count 'About 1,410,000,000 results'\n",
    "    total_results_text = soup.find(\"div\", {\"id\": \"result-stats\"}).find(text=True, recursive=False) \n",
    "    \n",
    "    # extract number\n",
    "    results_num = int(''.join([num for num in total_results_text if num.isdigit()]) )\n",
    "    \n",
    "    return results_num\n",
    "\n",
    "def df_build_results_count(keyword_list, user_agent, url=\"https://www.google.com/search?q=\"):\n",
    "    search_urls = get_search_urls(keyword_list)\n",
    "    result_count = [get_results_count(url, user_agent) for url in search_urls]  \n",
    "    timestamp = datetime.now()\n",
    "    \n",
    "    df = pd.DataFrame({'keyword': keyword_list, \n",
    "                       'results_count': result_count, \n",
    "                       'search_url': search_urls, \n",
    "                       'query_timestamp': timestamp})\n",
    "    \n",
    "    return df\n",
    "\n",
    "df = df_build_results_count(KEYWORDS, USER_AGENT, url=GOOGLE_URL)"
   ]
  },
  {
   "cell_type": "markdown",
   "id": "committed-permit",
   "metadata": {},
   "source": [
    "# Dump"
   ]
  },
  {
   "cell_type": "markdown",
   "id": "reasonable-climate",
   "metadata": {},
   "source": [
    "### google-search\n",
    "\n",
    "https://github.com/anthonyhseb/googlesearch"
   ]
  },
  {
   "cell_type": "code",
   "execution_count": null,
   "id": "swiss-precipitation",
   "metadata": {},
   "outputs": [],
   "source": [
    "from googlesearch.googlesearch import GoogleSearch\n",
    "response = GoogleSearch().search(\"ESG\", num_results = 1000)\n",
    "\n",
    "for result in response.results:\n",
    "    print(\"Title: \" + result.title)\n",
    "    print(\"Count: \" + result.total)"
   ]
  },
  {
   "cell_type": "code",
   "execution_count": 67,
   "id": "broad-difference",
   "metadata": {},
   "outputs": [
    {
     "data": {
      "text/html": [
       "<div>\n",
       "<style scoped>\n",
       "    .dataframe tbody tr th:only-of-type {\n",
       "        vertical-align: middle;\n",
       "    }\n",
       "\n",
       "    .dataframe tbody tr th {\n",
       "        vertical-align: top;\n",
       "    }\n",
       "\n",
       "    .dataframe thead th {\n",
       "        text-align: right;\n",
       "    }\n",
       "</style>\n",
       "<table border=\"1\" class=\"dataframe\">\n",
       "  <thead>\n",
       "    <tr style=\"text-align: right;\">\n",
       "      <th></th>\n",
       "      <th>title</th>\n",
       "      <th>url</th>\n",
       "      <th>_SearchResult__text</th>\n",
       "      <th>_SearchResult__markup</th>\n",
       "    </tr>\n",
       "  </thead>\n",
       "  <tbody>\n",
       "    <tr>\n",
       "      <th>0</th>\n",
       "      <td>Environmental, social and corporate governance...</td>\n",
       "      <td>https://en.wikipedia.org/wiki/Environmental,_s...</td>\n",
       "      <td>\\n\\n\\n\\n\\n\\n\\n\\n\\nEnvironmental, social and co...</td>\n",
       "      <td>b'&lt;!DOCTYPE html&gt;\\n&lt;html class=\"client-nojs\" l...</td>\n",
       "    </tr>\n",
       "    <tr>\n",
       "      <th>1</th>\n",
       "      <td>Environmental, Social, and Governance (ESG) Cr...</td>\n",
       "      <td>https://www.investopedia.com/terms/e/environme...</td>\n",
       "      <td>\\n\\n\\n\\n\\n\\n\\n \\n\\n \\n\\n \\n\\n \\n\\n\\n\\n\\n\\n\\n \\...</td>\n",
       "      <td>b'&lt;!DOCTYPE html&gt;\\n&lt;html id=\"termscTemplate_1-...</td>\n",
       "    </tr>\n",
       "    <tr>\n",
       "      <th>2</th>\n",
       "      <td>ESG framework | McKinsey</td>\n",
       "      <td>https://www.mckinsey.com/business-functions/st...</td>\n",
       "      <td>\\n\\n\\n\\n\\n\\n\\n\\nWe use cookies essential for t...</td>\n",
       "      <td>b'&lt;!DOCTYPE html&gt;\\r\\n&lt;html dir=\"\" lang=\"en\"\\r\\...</td>\n",
       "    </tr>\n",
       "    <tr>\n",
       "      <th>3</th>\n",
       "      <td>Startseite - ESG - Evangelische Studierendenge...</td>\n",
       "      <td>https://esgberlin.de/</td>\n",
       "      <td>\\n\\n\\n\\n\\n\\n\\n\\n\\n\\n\\n\\n\\n\\n\\n\\n\\n\\n\\n\\n\\n\\n\\n...</td>\n",
       "      <td>b'&lt;!DOCTYPE html&gt;\\n&lt;html lang=\"de\"&gt;\\n&lt;head&gt;\\n&lt;...</td>\n",
       "    </tr>\n",
       "    <tr>\n",
       "      <th>4</th>\n",
       "      <td>ESG Investing and Analysis - CFA Institute</td>\n",
       "      <td>https://www.cfainstitute.org/en/research/esg-i...</td>\n",
       "      <td>\\n\\n\\n\\n\\n\\n\\nWe’re using cookies, but you can...</td>\n",
       "      <td>b'\\r\\n&lt;!DOCTYPE html&gt;\\r\\n&lt;html lang=\"en-US\" xm...</td>\n",
       "    </tr>\n",
       "    <tr>\n",
       "      <th>5</th>\n",
       "      <td>What is ESG - MSCI</td>\n",
       "      <td>https://www.msci.com/what-is-esg</td>\n",
       "      <td>\\n\\n\\n  \\n\\nNavigation\\n\\nSkip to Content\\n\\n\\...</td>\n",
       "      <td>b'\\n\\n\\n\\n\\n\\n\\n\\n\\n\\n\\n\\n\\n\\n\\n\\n\\n\\n\\n\\n\\n\\n...</td>\n",
       "    </tr>\n",
       "    <tr>\n",
       "      <th>6</th>\n",
       "      <td>ESG-Kriterien • Definition | Gabler Wirtschaft...</td>\n",
       "      <td>https://wirtschaftslexikon.gabler.de/definitio...</td>\n",
       "      <td>\\n\\n\\n\\n      Direkt zum Inhalt\\n    \\nGoogle ...</td>\n",
       "      <td>b'&lt;!DOCTYPE html&gt;\\n&lt;html lang=\"de\" dir=\"ltr\" x...</td>\n",
       "    </tr>\n",
       "    <tr>\n",
       "      <th>7</th>\n",
       "      <td>Definition: Was bedeutet ESG (Environmental So...</td>\n",
       "      <td>https://www.euramco-asset.de/glossar/environme...</td>\n",
       "      <td>\\n\\n\\n    ​\\n    \\n\\n\\n\\n\\n\\n\\n\\n\\n\\n\\n\\n\\n\\n\\...</td>\n",
       "      <td>b'&lt;!DOCTYPE html&gt;\\n&lt;html lang=\"de\"&gt;\\n&lt;head&gt;\\n ...</td>\n",
       "    </tr>\n",
       "    <tr>\n",
       "      <th>8</th>\n",
       "      <td>The Remarkable Rise Of ESG - Forbes</td>\n",
       "      <td>https://www.forbes.com/sites/georgkell/2018/07...</td>\n",
       "      <td>ExploreBillionairesAll BillionairesWorld's Bil...</td>\n",
       "      <td>b'&lt;!DOCTYPE html&gt;&lt;html lang=\"en\"&gt;&lt;head&gt;&lt;title&gt;...</td>\n",
       "    </tr>\n",
       "  </tbody>\n",
       "</table>\n",
       "</div>"
      ],
      "text/plain": [
       "                                               title  \\\n",
       "0  Environmental, social and corporate governance...   \n",
       "1  Environmental, Social, and Governance (ESG) Cr...   \n",
       "2                           ESG framework | McKinsey   \n",
       "3  Startseite - ESG - Evangelische Studierendenge...   \n",
       "4         ESG Investing and Analysis - CFA Institute   \n",
       "5                                 What is ESG - MSCI   \n",
       "6  ESG-Kriterien • Definition | Gabler Wirtschaft...   \n",
       "7  Definition: Was bedeutet ESG (Environmental So...   \n",
       "8                The Remarkable Rise Of ESG - Forbes   \n",
       "\n",
       "                                                 url  \\\n",
       "0  https://en.wikipedia.org/wiki/Environmental,_s...   \n",
       "1  https://www.investopedia.com/terms/e/environme...   \n",
       "2  https://www.mckinsey.com/business-functions/st...   \n",
       "3                              https://esgberlin.de/   \n",
       "4  https://www.cfainstitute.org/en/research/esg-i...   \n",
       "5                   https://www.msci.com/what-is-esg   \n",
       "6  https://wirtschaftslexikon.gabler.de/definitio...   \n",
       "7  https://www.euramco-asset.de/glossar/environme...   \n",
       "8  https://www.forbes.com/sites/georgkell/2018/07...   \n",
       "\n",
       "                                 _SearchResult__text  \\\n",
       "0  \\n\\n\\n\\n\\n\\n\\n\\n\\nEnvironmental, social and co...   \n",
       "1  \\n\\n\\n\\n\\n\\n\\n \\n\\n \\n\\n \\n\\n \\n\\n\\n\\n\\n\\n\\n \\...   \n",
       "2  \\n\\n\\n\\n\\n\\n\\n\\nWe use cookies essential for t...   \n",
       "3  \\n\\n\\n\\n\\n\\n\\n\\n\\n\\n\\n\\n\\n\\n\\n\\n\\n\\n\\n\\n\\n\\n\\n...   \n",
       "4  \\n\\n\\n\\n\\n\\n\\nWe’re using cookies, but you can...   \n",
       "5  \\n\\n\\n  \\n\\nNavigation\\n\\nSkip to Content\\n\\n\\...   \n",
       "6  \\n\\n\\n\\n      Direkt zum Inhalt\\n    \\nGoogle ...   \n",
       "7  \\n\\n\\n    ​\\n    \\n\\n\\n\\n\\n\\n\\n\\n\\n\\n\\n\\n\\n\\n\\...   \n",
       "8  ExploreBillionairesAll BillionairesWorld's Bil...   \n",
       "\n",
       "                               _SearchResult__markup  \n",
       "0  b'<!DOCTYPE html>\\n<html class=\"client-nojs\" l...  \n",
       "1  b'<!DOCTYPE html>\\n<html id=\"termscTemplate_1-...  \n",
       "2  b'<!DOCTYPE html>\\r\\n<html dir=\"\" lang=\"en\"\\r\\...  \n",
       "3  b'<!DOCTYPE html>\\n<html lang=\"de\">\\n<head>\\n<...  \n",
       "4  b'\\r\\n<!DOCTYPE html>\\r\\n<html lang=\"en-US\" xm...  \n",
       "5  b'\\n\\n\\n\\n\\n\\n\\n\\n\\n\\n\\n\\n\\n\\n\\n\\n\\n\\n\\n\\n\\n\\n...  \n",
       "6  b'<!DOCTYPE html>\\n<html lang=\"de\" dir=\"ltr\" x...  \n",
       "7  b'<!DOCTYPE html>\\n<html lang=\"de\">\\n<head>\\n ...  \n",
       "8  b'<!DOCTYPE html><html lang=\"en\"><head><title>...  "
      ]
     },
     "execution_count": 67,
     "metadata": {},
     "output_type": "execute_result"
    }
   ],
   "source": [
    "pd.DataFrame([i.__dict__ for i in response.results])"
   ]
  },
  {
   "cell_type": "code",
   "execution_count": 71,
   "id": "perfect-ocean",
   "metadata": {},
   "outputs": [
    {
     "data": {
      "text/plain": [
       "78"
      ]
     },
     "execution_count": 71,
     "metadata": {},
     "output_type": "execute_result"
    }
   ],
   "source": [
    "response.total"
   ]
  },
  {
   "cell_type": "markdown",
   "id": "variable-engagement",
   "metadata": {},
   "source": [
    "## Future extensions"
   ]
  },
  {
   "cell_type": "markdown",
   "id": "opening-franchise",
   "metadata": {},
   "source": [
    "#### Result texts Create content analysis\n",
    "\n"
   ]
  },
  {
   "cell_type": "code",
   "execution_count": 63,
   "id": "entire-ozone",
   "metadata": {
    "collapsed": true,
    "jupyter": {
     "outputs_hidden": true
    },
    "tags": []
   },
   "outputs": [
    {
     "data": {
      "text/plain": [
       "'\\n\\n\\n\\n\\n\\n\\n\\n\\nEnvironmental, social and corporate governance\\n\\nFrom Wikipedia, the free encyclopedia\\n\\n\\n\\nJump to navigation\\nJump to search\\nThis article\\'s tone or style may not reflect the encyclopedic tone used on Wikipedia. See Wikipedia\\'s guide to writing better articles for suggestions. (April 2011) (Learn how and when to remove this template message)\\n\\n\\n\\nPart of a series onGovernance\\nModels\\n\\nBad\\nCollaborative\\nGood\\nMultistakeholder\\nOpen-source\\nPrivate\\nSelf\\n\\n\\nBy level\\n\\nLocal\\nGlobal\\n\\n\\nBy field\\n\\nClimate\\nClinical\\nCorporate\\nCultural\\nData\\nEarth system\\nEcclesiastical\\nEnvironmental\\nHigher education\\nInformation\\nNetwork\\nOcean\\nPolitical party\\nProject\\nSecurity sector\\nSelf\\nSimulation\\nService-oriented architecture\\nSoil\\nTechnology\\nTransnational\\nWebsite\\n\\n\\nMeasures\\nWorld Governance Index\\nSustainable Governance Indicators\\nBertelsmann Transformation Index\\n\\nRelated topics\\nAlgorithmic governance\\nChief governance officer\\nGovernance, risk managementand compliance\\nE-governance\\nEnvironmental, social andcorporate governance\\nMarket governance mechanism\\nvte\\nEnvironmental, Social, and Corporate Governance (ESG) refers to the three central factors in measuring the sustainability and societal impact of an investment in a company or business.[1]\\nThese criteria help to better determine the future financial performance of companies (return and risk).[2]\\n\\nContents\\n\\n1 History\\n2 Environmental concerns\\n\\n2.1 Climate crisis\\n2.2 Sustainability\\n\\n\\n3 Social concerns\\n\\n3.1 Diversity\\n3.2 Human rights\\n3.3 Consumer protection\\n3.4 Animal welfare\\n\\n\\n4 Corporate governance concerns\\n\\n4.1 Management structure\\n4.2 Employee relations\\n4.3 Executive compensation\\n4.4 Employee compensation\\n\\n\\n5 Responsible investment\\n\\n5.1 Investment strategies\\n5.2 Institutional investors\\n5.3 Principles for Responsible Investment\\n5.4 Equator Principles\\n\\n\\n6 ESG ratings agencies\\n7 Disclosure and regulation\\n8 See also\\n9 References\\n\\n\\nHistory[edit]\\nHistorical decisions of where financial assets would be placed were based on various criteria, financial return being predominant.[3] However, there have always been plenty of other criteria for deciding where to place money—from political considerations to heavenly reward. It was in the 1950s and 60s that the vast pension funds managed by the trades unions recognised the opportunity to affect the wider social environment using their capital assets[4]—in the United States the International Brotherhood of Electrical Workers invested their considerable capital in developing affordable housing projects, whilst the United Mine Workers invested in health facilities.[5]\\nIn the 1970s, the worldwide abhorrence of the apartheid regime in South Africa led to one of the most renowned examples of selective disinvestment along ethical lines. As a response to a growing call for sanctions against the regime, the Reverend Leon Sullivan, a board member of General Motors in the United States, drew up a Code of Conduct in 1971 for practising business with South Africa.[citation needed] What became known as the Sullivan Principles attracted a great deal of attention and several reports were commissioned by the government to examine how many US companies were investing in South African companies that were contravening the Sullivan Code. The conclusions of the reports led to a mass disinvestment by the US from many South African companies. The resulting pressure applied to the South African regime by its business community added great weight to the growing impetus for the system of apartheid to be abandoned.[6]\\nIn the 1960s and 1970s, Milton Friedman, in direct response to the prevailing mood of philanthropy argued that social responsibility adversely affects a firm\\'s financial performance and that regulation and interference from \"big government\" will always damage the macro economy.[7] His contention that the valuation of a company or asset should be predicated almost exclusively on the pure bottom line (with the costs incurred by social responsibility being deemed non-essential), underwrote the belief prevalent for most of the 20th century (see Friedman doctrine). Towards the end of the century however a contrary theory began to gain ground. In 1988 James S. Coleman wrote an article in the American Journal of Sociology titled Social Capital in the Creation of Human Capital, the article challenged the dominance of the concept of \\'self-interest\\' in economics and introduced the concept of social capital into the measurement of value.[3]\\nThere was a new form of pressure applied, acting in a coalition with environmental groups: it used the leveraging power of its collective investors to encourage companies and capital markets to incorporate environmental and social challenges into their day-to-day decision-making.\\nAlthough the concept of selective investment was not a new one, with the demand side of the investment market having a long history of those wishing to control the effects of their investments, what began to develop at the turn of the 21st century was a response from the supply-side of the equation. The investment market began to pick up on the growing need for products geared towards what was becoming known as the Responsible Investor. In 1998 John Elkington, co-founder of the business consultancy SustainAbility, published Cannibals with Forks: the Triple Bottom Line of 21st Century Business in which he identified the newly emerging cluster of non financial considerations which should be included in the factors determining a company or equity\\'s value. He coined the phrase the \"triple bottom line\", referring to the financial, environmental and social factors included in the new calculation. At the same time the strict division between the environmental sector and the financial sector began to break down. In the City of London in 2002, Chris Yates-Smith, a member of the international panel chosen to oversee the technical construction, accreditation and distribution of the Organic Production Standard and founder of one of the City of London\\'s leading branding consultancies, established one of the first environmental finance research groups. The informal group of financial leaders, city lawyers and environmental stewardship NGOs became known as The Virtuous Circle, and its brief was to examine the nature of the correlation between environmental and social standards and financial performance. Several of the world\\'s big banks and investment houses began to respond to the growing interest in the ESG investment market with the provision of sell-side services; among the first were the Brazilian bank Unibanco, and Mike Tyrell\\'s Jupiter Fund in London, which used ESG based research to provide both HSBC and Citicorp with selective investment services in 2001.\\nIn the early years of the new millennium, the major part of the investment market still accepted the historical assumption that ethically directed investments were by their nature likely to reduce financial return. Philanthropy was not known to be a highly profitable business, and Friedman had provided a widely accepted academic basis for the argument that the costs of behaving in an ethically responsible manner would outweigh the benefits. However, the assumptions were beginning to be fundamentally challenged. In 1998 two journalists Robert Levering and Milton Moskowitz had brought out the Fortune 100 Best Companies to Work For, initially a listing in the magazine Fortune, then a book compiling a list of the best-practicing companies in the United States with regard to corporate social responsibility and how their financial performance fared as a result. Of the three areas of concern that ESG represented, the environmental and social had received most of the public and media attention, not least because of the growing fears concerning climate change. Moskowitz brought the spotlight onto the corporate governance aspect of responsible investment. His analysis concerned how the companies were managed, what the stockholder relationships were and how the employees were treated. He argued that improving corporate governance procedures did not damage financial performance; on the contrary it maximised productivity, ensured corporate efficiency and led to the sourcing and utilising of superior management talents. In the early 2000s, the success of Moskowitz\\'s list and its impact on companies\\' ease of recruitment and brand reputation began to challenge the historical assumptions regarding the financial effect of ESG factors.[8] In 2011, Alex Edmans, a finance professor at Wharton, published a paper in the Journal of Financial Economics showing that the 100 Best Companies to Work For outperformed their peers in terms of stock returns by 2–3% a year over 1984–2009, and delivered earnings that systematically exceeded analyst expectations.[9]\\nIn 2005, the United Nations Environment Programme Finance Initiative commissioned a report from the international law firm Freshfields Bruckhaus Deringer on the interpretation of the law with respect to investors and ESG issues. The Freshfields report concluded that not only was it permissible for investment companies to integrate ESG issues into investment analysis, it was arguably part of their fiduciary duty to do so.[10][11] In 2014, the Law Commission (England and Wales) confirmed that there was no bar on pension trustees and others from taking account of ESG factors when making investment decisions.[12]\\nWhere Friedman had provided the academic support for the argument that the integration of ESG type factors into financial practice would reduce financial performance, numerous reports began to appear in the early years of the century which provided research that supported arguments to the contrary.[13] In 2006 Oxford University\\'s Michael Barnett and New York University\\'s Robert Salomon published an influential study which concluded that the two sides of the argument might even be complementary—they propounded a curvilinear relationship between social responsibility and financial performance. Both selective investment practices and non-selective could maximise financial performance of an investment portfolio, and the only route likely to damage performance was a middle way of selective investment.[14] Besides the large investment companies and banks taking an interest in matters ESG, an array of investment companies specifically dealing with responsible investment and ESG based portfolios began to spring up throughout the financial world.\\nMany in the investment industry believe the development of ESG factors as considerations in investment analysis to be inevitable.[15] The evidence toward a relationship between consideration for ESG issues and financial performance is becoming greater and the combination of fiduciary duty and a wide recognition of the necessity of the sustainability of investments in the long term has meant that environmental social and corporate governance concerns are now becoming increasingly important in the investment market.[16][2] ESG has become less a question of philanthropy than practicality.\\nThere has been uncertainty and debate as to what to call the inclusion of intangible factors relating to the sustainability and ethical impact of investments. Names have ranged from the early use of buzz words such as \"green\" and \"eco\", to the wide array of possible descriptions for the types of investment analysis—\"responsible investment\", \"socially responsible investment\" (SRI), \"ethical\", \"extra-financial\", \"long horizon investment\" (LHI), \"enhanced business\", \"corporate health\", \"non-traditional\", and others. But the predominance of the term ESG has now become fairly widely accepted. A survey of 350 global investment professionals conducted by AXA Investment Managers and AQ Research in 2008 concluded the vast majority of professionals preferred the term ESG to describe such data.\\nInterest in ESG and sustainable investing runs strong for plan participants, according to Natixis\\' 2016 Survey of Defined Contribution Plan Participants2. In fact, more than six in ten participants agreed they would be more likely to contribute or increase their contributions to their retirement plan if they knew their investments were doing social good.[17]\\nIn January 2016, the PRI, UNEP FI and The Generation Foundation launched a three-year project to end the debate on whether fiduciary duty is a legitimate barrier to the integration of environmental, social and governance issues in investment practice and decision-making.\\nThis follows the publication in September 2015 of Fiduciary Duty in the 21st Century by the PRI, UNEP FI, UNEP Inquiry and UN Global Compact. The report concluded that \"Failing to consider all long-term investment value drivers, including ESG issues, is a failure of fiduciary duty\". It also acknowledged that despite significant progress, many investors have yet to fully integrate ESG issues into their investment decision-making processes.\\n\\nEnvironmental concerns[edit]\\nMain article: Environmental governance\\nThreat of climate change and the depletion of resources has grown, so investors may choose to factor sustainability issues into their investment choices. The issues often represent externalities, such as influences on the functioning and revenues of the company that are not exclusively affected by market mechanisms.[18] As with all areas of ESG, the breadth of possible concerns is vast (e.g. greenhouse gas emissions, biodiversity, waste management, water management, ...) but some of the chief areas are listed below:\\n\\nClimate crisis[edit]\\nThe body of research providing evidence of global trends in climate change has led investors—pension funds, holders of insurance reserves—to begin to screen investments in terms of their impact on the perceived factors of climate change. Fossil fuel reliant industries are less attractive.[19] In the UK, investment policies were particularly affected by the conclusions of the Stern Review in 2006, a report commissioned by the British government to provide an economic analysis of the issues associated with climate change. Its conclusions pointed towards the necessity of including considerations of climate change and environmental issues in all financial calculations and that the benefits of early action on climate change would outweigh its costs.[20]\\n\\nSustainability[edit]\\nIn every area of the debate from the depletion of resources to the future of industries dependent upon diminishing raw materials the question of the obsolescence of a company\\'s product or service is becoming central to the value ascribed to that company. The long-term view is becoming prevalent amongst investors.[15]\\n\\nSocial concerns[edit]\\nDiversity[edit]\\nThe level of diversity as well as inclusion in a company\\'s recruitment and people management policies is becoming a key concern to investors. There is a growing perception that the broader the pool of talent open to an employer the greater the chance of finding the optimum person for the job.[21] Innovation and agility are seen as the great benefits of diversity, and there is an increasing awareness of what has come to be known as \\'the power of difference\\'.[22]\\n\\nHuman rights[edit]\\nIn 2006 the US Courts of Appeals ruled that there was a case to answer bringing the area of a company\\'s social responsibilities squarely into the financial arena.[23] This area of concern is widening to include such considerations as the impact on local communities, the health and welfare of employees and a more thorough examination of a company\\'s supply chain.\\n\\nConsumer protection[edit]\\nUntil fairly recently, caveat emptor (\"buyer beware\") was the governing principle of commerce and trading. In recent times however there has been an increased assumption that the consumer has a right to a degree of protection and the vast growth in damages litigation has meant that consumer protection is a central consideration for those seeking to limit a company\\'s risk and those examining a company\\'s credentials with an eye to investing. The collapse of the US subprime mortgage market initiated a growing movement against predatory lending has also become an important area of concern.[24]\\n\\nAnimal welfare[edit]\\nFrom the testing of products on animals to the welfare of animals bred for the food market, concern about the welfare of animals is a large consideration for those investors seeking a thorough understanding of the company or industry being analyzed.[citation needed]\\n\\nCorporate governance concerns[edit]\\nSee also: Corporate governance and Social ownership\\nCorporate governance covers the area of investigation into the rights and responsibilities of the management of a company—its board, shareholders and the various stakeholders in that company.[citation needed]\\n\\nManagement structure[edit]\\nThe system of internal procedures and controls that makes up the management structure of a company is in the valuation of that company\\'s equity.[16] Attention has been focused in recent years on the balance of power between the CEO and the Board of Directors and specifically the differences between the European model and the US model—in the US studies have found that 80% of companies have a CEO who is also the Chairman of the Board, in the UK and the European model it was found that 90% of the largest companies split the roles of CEO and Chairman.[25]\\n\\nEmployee relations[edit]\\nFrom diversity to the establishment of corporate behaviors and values, the role that improving employee relations plays in assessing the value of a company is proving increasingly central. In the United States Moskowitz\\'s list of the Fortune 100 Best Companies to Work For has become not only an important tool for employees but companies are beginning to compete keenly for a place on the list, as not only does it help to recruit the best workforce, it appears to have a noticeable impact on company values.[8] Employee relations relate also to the representation of co-workers in the decision-making of companies, and the ability to participate in a union.\\n\\nExecutive compensation[edit]\\nCompanies are now being asked to list the percentage levels of bonus payments and the levels of remuneration of the highest paid executives are coming under close scrutiny from stock holders and equity investors alike.\\n\\nEmployee compensation[edit]\\nBesides executive compensation, equitable pay of other employees is a consideration in the governance of an organization. This includes pay equity for employees of all genders. Pay equity audits and the results of those audits may be required by various regulations and, in some cases, made available to the public for review. Hermann J. Stern differentiates four methods to include ESG performance in employee compensation:[26]\\n\\nESG Targets (Objectives for activities, projects and ESG results set by the company as a goal)\\nESG Relative Performance Measurement (compared to peers, on the basis of key figures the company considers relevant)\\nESG Ratings Agencies (Refinitiv, S&P Trucost and RobecoSam, Sustainalytics, ISS ESG, MSCI ESG, Vigeo Eiris, EcoVadis, Minerva Analytics, etc.)[27]\\nESG Performance Evaluations (internal or independent performance assessment by means of expert opinions, based on internally and externally available objective and subjective facts)\\nResponsible investment[edit]\\nSee also: Socially responsible investing\\nThe three domains of social, environmental and corporate governance are intimately linked to the concept of responsible investment. RI began as a niche investment area, serving the needs of those who wished to invest but wanted to do so within ethically defined parameters. In recent years it has become a much larger proportion of the investment market. By June 2020, flows into U.S. sustainable funds reached $20.9 billion, nearly matching 2019\\'s flows of $21.4 billion.[28] By the end of 2020, flows into U.S. sustainable funds surpassed $51 billion.[29] Globally, sustainable funds held $1.65 trillion in assets at the end of 2020.[30]\\n\\nInvestment strategies[edit]\\nRI seeks to control the placing of its investments via several methods:\\n\\nPositive selection; where the investor actively selects the companies in which to invest; this can be done either by following a defined set of ESG criteria or by the best-in-class method where a subset of high performing ESG compliant companies is chosen for inclusion in an investment portfolio.\\nActivism; strategic voting by shareholders in support of a particular issue, or to bring about change in the governance of the company.\\nEngagement; investment funds monitoring the ESG performance of all portfolio companies and leading constructive shareholder engagement dialogues with each company to ensure progress.[31]\\nConsulting role; the larger institutional investors and shareholders tend to be able to engage in what is known as \\'quiet diplomacy\\', with regular meetings with top management in order to exchange information and act as early warning systems for risk and strategic or governance issues.[32]\\nExclusion; the removal of certain sectors or companies from consideration for investment, based on ESG-specific criteria.\\nIntegration; the inclusion of ESG risks and opportunities into traditional financial analysis of equity value.\\nInstitutional investors[edit]\\nSee also: Institutional investors\\nOne of the defining marks of the modern investment market is the divergence in the relationship between the firm and its equity investors. Institutional investors have become the key owners of stock—rising from 35% in 1981 to 58% in 2002 in the US[33] and from 42% in 1963 to 84.7% in 2004 in the UK[34] and institutions tend to work on a long term investment strategy. Insurance companies, Mutual Funds and Pension Funds with long-term payout obligations are much more interested in the long term sustainability of their investments than the individual investor looking for short-term gain.[15] Where a Pension Fund is subject to ERISA, there are legal limitations on the extent to which investment decisions can be based on factors other than maximizing plan participants\\' economic returns.[35]\\nBased on the belief that addressing ESG issues will protect and enhance portfolio returns, responsible investment is rapidly becoming a mainstream concern within the institutional industry. By late 2016, over a third of institutional investors (commonly referred to as LPs) based in Europe and Asia-Pacific said that ESG considerations played a major or primary role in refusing to commit to a private equity fund, while the same is true for a fifth of North American LPs.[36] In reaction to investor interest in ESG, private equity and other industry trade associations have developed a number of ESG best practices, including a due diligence questionnaire for private fund managers and other asset managers to use before investing in a portfolio company.[37]\\nThere was clear acceleration of the institutional shift towards ESG-informed investments in the second semester of 2019. The notion of \"SDG Driven Investment\" gained further ground amongst pension funds, SWFs and asset managers in the second semester of 2019, notably at the World Pensions Council G7 Pensions Roundtable held in Biarritz, 26 August 2019,[38] and the Business Roundtable held in Washington, DC, on 19 August 2019.[39]\\n\\nPrinciples for Responsible Investment[edit]\\nThe Principles for Responsible Investment Initiative (PRI) was established in 2005 by the United Nations Environment Programme Finance Initiative and the UN Global Compact as a framework for improving the analysis of ESG issues in the investment process and to aid companies in the exercise of responsible ownership practices. As of April 2019 there are over 2,350 PRI Signatories.[40]\\n\\nEquator Principles[edit]\\nMain article: Equator Principles\\nThe Equator Principles is a risk management framework, adopted by financial institutions, for determining, assessing and managing environmental and social risk in project finance. It is primarily intended to provide a minimum standard for due diligence to support responsible risk decision-making.[41] As of October 2019, 97 adopting financial institutions in 37 countries had officially adopted the Equator Principles,[42] the majority of international Project Finance debt in emerging and developed markets.[43] Equator Principles Financial Institutions (EPFIs) commit to not provide loans to projects where the borrower will not or is unable to comply with their respective social and environmental policies and procedures.\\nThe Equator Principles, formally launched in Washington DC on 4 June 2003, were based on existing environmental and social policy frameworks established by the International Finance Corporation. These standards have subsequently been periodically updated into what is commonly known as the International Finance Corporation Performance Standards on social and environmental sustainability and on the World Bank Group Environmental, Health, and Safety Guidelines.[44]\\n\\nESG ratings agencies[edit]\\nAsset managers and other financial institutions increasingly rely on ESG ratings agencies to assess, measure and compare companies\\' ESG performance.[45] More recently, data providers have applied artificial intelligence to rate companies and their commitment to ESG.[non-primary source needed] Each rating agency uses its own set of metrics to measure the level of ESG compliance and there is, at present, no industry-wide set of common standards.\\n\\nDisclosure and regulation[edit]\\nThe first ten years of the new century has seen a vast growth in the ESG defined investment market. Not only do most of the world\\'s big banks now have departments and divisions exclusively addressing Responsible Investment but boutique firms specialising in advising and consulting on environmental, social and governance related investments are proliferating. One of the major aspects of the ESG side of the insurance market which leads to this tendency to proliferation is the essentially subjective nature of the information on which investment selection can be made. By definition ESG data is qualitative; it is non-financial and not readily quantifiable in monetary terms. The investment market has long dealt with these intangibles—such variables as goodwill have been widely accepted as contributing to a company\\'s value. But the ESG intangibles are not only highly subjective they are also particularly difficult to quantify and more importantly verify.\\nOne of the major issues in the ESG area is disclosure. Environmental risks created by business activities have actual or potential negative impact on air, land, water, ecosystems, and human health. The information on which an investor makes their decisions on a financial level is fairly simply gathered. The company\\'s accounts can be examined, and although the accounting practices of corporate business are coming increasingly into disrepute after a spate of recent financial scandals, the figures are for the most part externally verifiable. With ESG considerations, the practice has been for the company under examination to provide its own figures and disclosures.[46] These have seldom been externally verified and the lack of universal standards and regulation in the areas of environmental and social practice mean that the measurement of such statistics is subjective to say the least. As integrating ESG considerations into investment analysis and the calculation of a company\\'s value become more prevalent it will become more crucial to provide units of measurement for investment decisions on subjective issues such as, for example, degrees of harm to workers, or how far down the supply chain for the production of a cluster bomb do you go.\\nOne of the solutions put forward to the inherent subjectivity of ESG data is the provision of universally accepted standards for the measurement of ESG factors. Such organisations as the ISO (International Organisation for Standardisation) provide highly researched and widely accepted standards for many of the areas covered.[47] Some investment consultancies, such as Probus-Sigma have created methodologies for calculating the ratings for an ESG based Ratings Index that is both based on ISO standards and externally verified,[48] but the formalisation of the acceptance of such standards as the basis for calculating and verifying ESG disclosures is by no means universal.\\nThe corporate governance side of the matter has received rather more in the way of regulation and standardisation as there is a longer history of regulation in this area. In 1992 the London Stock Exchange and the Financial Reporting Commission set up the Cadbury Commission to investigate the series of governance failures that had plagued the City of London such as the bankruptcies of BCCI, Polly Peck, and Robert Maxwell\\'s Mirror Group. The conclusions that the commission reached were compiled in 2003 into the Combined Code on Corporate Governance which has been widely accepted (if patchily applied) by the financial world as a benchmark for good governance practices.[49]\\nIn the interview for Yahoo! Finance Francis Menassa (JAR Capital) says, that \"the EU\\'s 2014 Non-Financial Reporting Directive will apply to every country on a national level to implement and requires large companies to disclose non-financial and diversity information. This also includes providing information on how they operate and manage social and environmental challenges. The aim is to help investors, consumers, policy makers, and other stakeholders to evaluate the non-financial performance of large companies. Ultimately, the Directive encourages European companies to develop a responsible approach to business\".[50]\\nOne of the key areas of concern in the discussion as to the reliability of ESG disclosures is the establishment of credible ratings for companies as to ESG performance. The world\\'s financial markets have all leapt to provide ESG relevant ratings indexes, the Dow Jones Sustainability Index, the FTSE4Good Index (which is co-owned by the London Stock Exchange and Financial Times[51]), Bloomberg ESG data,[52] the MSCI ESG Indices[53] and the GRESB benchmarks[54]\\nThere is some movement in the insurance market to find a reliable index of ratings for ESG issues, with some suggesting that the future lies in the construction of algorithms for calculating ESG ratings based on ISO standards and third party verification.\\n\\nSee also[edit]\\nEnvironmental full-cost accounting\\nForm 10-K\\nUK company law\\nUS corporate law\\nUN Sustainable Development Goals\\nReferences[edit]\\n\\n\\n^ Georg Kell (United Nations Global Compact), \"Five trends that show corporate responsibility is here to stay\", The Guardian, 13 August 2014 (page visited on 28 January 2018).\\n\\n^ a b Robert Eccles, Ioannis Ioannou and George Serafeim, \"Is sustainability now the key to corporate success? Companies that adopted environmental, social and governance policies in the 1990s have outperformed those that didn\\'t\", The Guardian, 6 January 2012 (page visited on 28 January 2018).\\n\\n^ a b Coleman, James S, Social Capital in the Creation of Human Capital , (American Journal of Sociology, Vol. 94, 1988)\\n\\n^ Roberts, B.C., Trade Union Government and Administration in Great Britain (Harvard University Press, 1958)\\n\\n^ Gray, Hillel, New Directions in the Investment and Control of Pension Funds, (Investor Responsibility Research Center, 1983)\\n\\n^ \"The leon H. Sullivan Foundation\". thesullivanfoundation.org. Archived from the original on 19 June 2017. Retrieved 11 November 2018.\\n\\n^ Freidman, Milton and Rose, Free to Choose, A Personal Statement, (Harcourt, 1980)\\n\\n^ a b Ballou, B., Godwin, Norman H., Toppe Shortridge, Rebecca, Firm Value and Employee Attitudes on Workplace Quality, (Accounting Horizons, Vol. 17, 2003)\\n\\n^ Edmans, Alex, Does the Stock Market Fully Value Intangibles? Employee Satisfaction and Equity Prices, (Journal of Financial Economics Vol. 101, 2011)\\n\\n^ \"UNEP Finance Initiative: Innovative financing for sustainability\". unepfi.org.\\n\\n^ Freshfields Bruckhaus Deringer A Legal Framework for the Integration of Environmental, Social and Governance Issues into Institutional Investment: A Report Produced for the Asset management Working Group of the UNEP FI, 2005 (PDF)\\n\\n^ \"Law Commission\". justice.gov.uk. Archived from the original on 24 September 2014.\\n\\n^ Cogan Douglas, G, Corporate Governance and Climate Change: Making the Connexion, (Ceres, March 2003)\\n\\n^ Barnett, Michael and Salomon, Robert, Beyond Dichotomy: The Curvilinear Relationship between Social Responsibility and Financial Performance, (Strategic Management Journal, Vol. 27, 2006)\\n\\n^ a b c IPE European Institutional Asset Management Survey, 2009\\n\\n^ a b Aguilera, Ruth et al, Corporate Governance and Social Responsibility; a comparative analysis of the UK and the US (Corporate Governance, Blackwell, Vol. 14, 2006)\\n\\n^ \"Natixis Global Asset Management Investor Insight Series: Running on Empty, Attitudes and Actions of Defined Contribution Plan Participants\" (PDF). Ngam.natixis.com. 2016. Retrieved 10 October 2018.\\n\\n^ IPE European Institutional Asset Management Survey, 2009.\\n\\n^ Supachai Panitchpakdi, UNCTAD Secretary General\\'s Statement, 2009\\n\\n^ \"Stern Review on the Economics of Climate Change – HM Treasury\". sternreview.org.uk.\\n\\n^ Jayne, Michele E. A. and Dipboye, Robert L., Leveraging Diversity to Improve Business Performance, (Human Resource Management, Wiley, Vol. 43, 2004)\\n\\n^ Merck, Promoting Diversity and Inclusion, 2006\\n\\n^ \"Business & Human Rights Resource Centre\". business-humanrights.org.\\n\\n^ Morgan, Donald P., Defining and Predicting Predatory Lending, (Federal Reserve Bank of New York, Staff Report 273, 2007)\\n\\n^ Higgs, D, Review of the Role and Effectiveness of Non-Executive Directors (Higgs Report, 2005)\\n\\n^ Stern, H.J., Better Bonus Plans for ESG, (submitted Working Paper, SSRN, 2020)\\n\\n^ Nason, Deborah (31 December 2020). \"How to navigate the world of sustainable investing ratings\". CNBC. Retrieved 28 January 2021.\\n\\n^ Hale, Jon (30 July 2020). \"Sustainable Funds Continue to Rake in Assets During the Second Quarter\". Morningstar.com. Retrieved 18 August 2020.\\n\\n^ Hale, Jon (28 January 2021). \"A Broken Record: Flows for U.S. Sustainable Funds Again Reach New Heights\". Morningstar.com. Retrieved 29 January 2021.\\n\\n^ Howcroft, Simon Jessop, Elizabeth (28 January 2021). \"Sustainable fund assets hit record $1.7 trln in 2020: Morningstar\". Reuters. Retrieved 28 January 2021.\\n\\n^ French research centre Novethic <http://www.novethic.com> issues a SRI engagement label, which was extended to Fondation Guilé e.g.\\n\\n^ Holland, J., Influence and Intervention by Financial Institutions in their Investee Companies, (Corporate Governance, Issue 6, 1998)\\n\\n^ Binay, M., Performance Attribution of UA Institutional Investors  (Financial Management, Summer, 2005)\\n\\n^ Office for National Statistics, Share Ownership, 2005\\n\\n^ Lemke and Lins, ERISA for Money Managers §§2:125–2:127 (Thomson West, 2014–2015 ed.).\\n\\n^ \"Coller Capital Global PE Barometer – Winter 2016–17 | Coller Capital\". Collercapital.com. Retrieved 30 October 2017.\\n\\n^ \"Finding Your ESG Mindset with Invest Europe | Navatar\". Navatar. Retrieved 30 October 2017.\\n\\n^ Firzli, Nicolas (10 February 2020). \"G7 Pensions Roundtable\\xa0: Les ODD (\\'SDGs\\') Désormais Incontournables\". Cahiers du Centre des Professions Financières. CPF. SSRN\\xa03545217. Retrieved 17 March 2020.\\n\\n^ McGregor, Jena (20 August 2019). \"Group of top CEOs says maximizing shareholder profits no longer can be the primary goal of corporations\". Washington Post. WP. Retrieved 17 March 2020.\\n\\n^ \"Principles for Responsible Investment – Signatories\". PRI Signatories. 5 February 2015. Archived from the original on 21 September 2013. Retrieved 5 February 2015.\\n\\n^ \"The Equator Principles – Environmental and social risk management for projects\". Equator-principles.com. Retrieved 27 April 2019.\\n\\n^ \"EP Association Members & Reporting\". Equator-principles.com. Retrieved 7 October 2019.\\n\\n^ Wright, Christopher, and Alexis Rwabizambuga. \"Institutional pressures, corporate reputation, and voluntary codes of conduct: An examination of the equator principles.\" Business and Society Review 111.1 (2006): 89–117.\\n\\n^ \"Equator Principles History and Context FAQ\" (PDF). Equator-principles.com. Archived from the original (PDF) on 23 November 2015. Retrieved 30 November 2015.\\n\\n^ Huber, Betty (27 July 2017). \"ESG Reports and Ratings: What they are, why they matter\". Harvard Law School. Retrieved 13 September 2018.\\n\\n^ Association of British Insurers, Disclosure Guidelines on Socially Responsible Investment, 2001\\n\\n^ \"ISO – International Organization for Standardization\". ISO. Retrieved 27 April 2016.\\n\\n^ Burocratik. \"Probus Sigma\". Probus-sigma.eu. Retrieved 15 November 2011.\\n\\n^ Cadbury Committee on the Financial Aspects of Corporate Governance, Report with Code of Best Practice, (London, Gee Publishing, 1992)\\n\\n^ Francis Menassa (20 June 2019). \"Why ESG is a New Trend\". FX Empire. Retrieved 20 June 2019.\\n\\n^ Baker & McKenzie LLP (2013). \"ESG Reporting on the London Stock Exchange\" (PDF). Advocates for International Development. Archived from the original (PDF) on 12 December 2013. Retrieved 15 August 2013.\\n\\n^ \"Why Bloomberg ESG Data Matters\". Emisoft.com.\\n\\n^ \"MSCI ESG Indexes – MSCI\". Msci.com. Retrieved 10 October 2018.\\n\\n^ \"GRESB Assessments\". Gresb.com. Retrieved 10 October 2018.\\n\\n\\nBusiness and economics portal\\nvteSocial and environmental accountabilityEthics andprinciples\\nAarhus Convention\\nCorporate accountability\\xa0/ behaviour\\xa0/ social responsibility\\nEthical banking\\nEthical code\\nExtended producer responsibility\\nOrganizational ethics\\nOrganizational justice\\nPrinciples for Responsible Investment\\nSocial responsibility\\nStakeholder theory\\nSullivan principles\\nTransparency (behavioral\\nsocial)\\nUN Global Compact\\nSocialaccounting\\nDouble bottom line\\nEthical positioning index\\nHigg Index\\nImpact assessment\\xa0(environmental\\nequality\\nsocial)\\nISO 26000\\nISO 45001\\nGenuine progress indicator\\nPerformance indicator\\nSA8000\\nSocial return on investment\\nWhole-life cost\\nEnvironmentalaccounting\\nCarbon accounting\\nEco-Management and Audit Scheme\\nEmission inventory\\nEnvironmental full-cost accounting\\xa0/ impact assessment\\xa0/ management system\\xa0/ profit-and-loss account\\nISO 14000\\nISO 14031\\nLife-cycle assessment\\nPollutant release and transfer register\\nSustainability accounting\\xa0/ measurement\\xa0/ metrics and indices\\xa0/ standards and certification\\xa0/ supply chain\\nToxics Release Inventory\\nTriple bottom line\\nReporting\\nGlobal Reporting Initiative\\nGxP guidelines\\nSustainability reporting\\nAuditing\\nCommunity-based monitoring\\nEnvironmental\\xa0(certification)\\nFair trade\\xa0(certification)\\nISO 19011\\nRelated\\nBangladesh Accord\\nBenefit corporation\\nChild labour\\nCommunity interest company\\nConflict of interest\\nDisasters\\nDisinvestment\\nEco-labeling\\nEnvironmental pricing reform\\nEnvironmental, social and corporate governance\\nEthical consumerism\\nEuthenics\\nHealth impact assessment\\nMarket governance mechanism\\nProduct certification\\nPublic participation\\nSocial enterprise\\nSocially responsible investing\\nStakeholder\\xa0(engagement)\\nSupply chain management\\n\\n Environment portal\\n Category\\n Commons\\nOrganizations\\n\\n\\n\\n\\n\\nRetrieved from \"https://en.wikipedia.org/w/index.php?title=Environmental,_social_and_corporate_governance&oldid=1007541590\"\\nCategories: EnvironmentalismEthical bankingEthical investmentGovernanceHidden categories: Wikipedia articles with style issues from April 2011All articles with style issuesUse dmy dates from January 2018Use British English from January 2018All articles with unsourced statementsArticles with unsourced statements from April 2016All pages needing factual verificationWikipedia articles needing factual verification from September 2020\\n\\n\\n\\n\\n\\n\\nNavigation menu\\n\\n\\n\\n\\nPersonal tools\\n\\n\\nNot logged inTalkContributionsCreate accountLog in\\n\\n\\n\\n\\n\\n\\nNamespaces\\n\\n\\nArticleTalk\\n\\n\\n\\n\\n\\n\\nVariants\\n\\n\\n\\n\\n\\n\\n\\n\\n\\n\\nViews\\n\\n\\nReadEditView history\\n\\n\\n\\n\\n\\n\\nMore\\n\\n\\n\\n\\n\\n\\n\\nSearch\\n\\n\\n\\n\\n\\n\\n\\n\\n\\n\\n\\n\\n\\n\\n\\n\\n\\n\\n\\nNavigation\\n\\n\\nMain pageContentsCurrent eventsRandom articleAbout WikipediaContact usDonate\\n\\n\\n\\n\\n\\nContribute\\n\\n\\nHelpLearn to editCommunity portalRecent changesUpload file\\n\\n\\n\\n\\n\\nTools\\n\\n\\nWhat links hereRelated changesUpload fileSpecial pagesPermanent linkPage informationCite this pageWikidata item\\n\\n\\n\\n\\n\\nPrint/export\\n\\n\\nDownload as PDFPrintable version\\n\\n\\n\\n\\n\\nLanguages\\n\\n\\nالعربيةFrançais한국어PolskiTürkçe\\nEdit links\\n\\n\\n\\n\\n\\n\\n This page was last edited on 18 February 2021, at 18:03\\xa0(UTC).\\nText is available under the Creative Commons Attribution-ShareAlike License;\\nadditional terms may apply.  By using this site, you agree to the Terms of Use and Privacy Policy. Wikipedia® is a registered trademark of the Wikimedia Foundation, Inc., a non-profit organization.\\n\\n\\nPrivacy policy\\nAbout Wikipedia\\nDisclaimers\\nContact Wikipedia\\nMobile view\\nDevelopers\\nStatistics\\nCookie statement\\n\\n\\n\\n\\n\\n\\n\\n\\n\\n\\n'"
      ]
     },
     "execution_count": 63,
     "metadata": {},
     "output_type": "execute_result"
    }
   ],
   "source": [
    "response.results[0].get_text()"
   ]
  }
 ],
 "metadata": {
  "kernelspec": {
   "display_name": "Python 3",
   "language": "python",
   "name": "python3"
  },
  "language_info": {
   "codemirror_mode": {
    "name": "ipython",
    "version": 3
   },
   "file_extension": ".py",
   "mimetype": "text/x-python",
   "name": "python",
   "nbconvert_exporter": "python",
   "pygments_lexer": "ipython3",
   "version": "3.8.8"
  }
 },
 "nbformat": 4,
 "nbformat_minor": 5
}
